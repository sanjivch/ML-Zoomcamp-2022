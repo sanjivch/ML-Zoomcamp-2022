{
 "cells": [
  {
   "cell_type": "markdown",
   "id": "be06b6c8",
   "metadata": {},
   "source": [
    "## Homework\n",
    "\n",
    "### Dataset\n",
    "\n",
    "In this homework, we will use the California Housing Prices. You can take it from\n",
    "[Kaggle](https://www.kaggle.com/datasets/camnugent/california-housing-prices).\n",
    "\n",
    "The goal of this homework is to create a regression model for predicting housing prices (column `'median_house_value'`)."
   ]
  },
  {
   "cell_type": "markdown",
   "id": "b17fe51a",
   "metadata": {},
   "source": [
    "### EDA\n",
    "\n",
    "* Load the data.\n",
    "* Look at the `median_house_value` variable. Does it have a long tail? \n",
    "> Yes, it does have a tail. Not the textbook definition though."
   ]
  },
  {
   "cell_type": "code",
   "execution_count": 4,
   "id": "a7c4da90",
   "metadata": {},
   "outputs": [],
   "source": [
    "import pandas as pd\n",
    "import numpy as np\n",
    "import matplotlib.pyplot as plt"
   ]
  },
  {
   "cell_type": "code",
   "execution_count": 2,
   "id": "3c397ad1",
   "metadata": {},
   "outputs": [],
   "source": [
    "df = pd.read_csv('housing.csv')"
   ]
  },
  {
   "cell_type": "code",
   "execution_count": 3,
   "id": "3fb312bb",
   "metadata": {},
   "outputs": [
    {
     "data": {
      "text/plain": [
       "Index(['longitude', 'latitude', 'housing_median_age', 'total_rooms',\n",
       "       'total_bedrooms', 'population', 'households', 'median_income',\n",
       "       'median_house_value', 'ocean_proximity'],\n",
       "      dtype='object')"
      ]
     },
     "execution_count": 3,
     "metadata": {},
     "output_type": "execute_result"
    }
   ],
   "source": [
    "df.columns"
   ]
  },
  {
   "cell_type": "code",
   "execution_count": 6,
   "id": "57ea6505",
   "metadata": {},
   "outputs": [
    {
     "data": {
      "text/plain": [
       "<AxesSubplot:>"
      ]
     },
     "execution_count": 6,
     "metadata": {},
     "output_type": "execute_result"
    },
    {
     "data": {
      "image/png": "[encoded data removed]",
      "text/plain": [
       "<Figure size 432x288 with 1 Axes>"
      ]
     },
     "metadata": {
      "needs_background": "light"
     },
     "output_type": "display_data"
    }
   ],
   "source": [
    "df['median_house_value'].hist(bins=50)"
   ]
  },
  {
   "cell_type": "markdown",
   "id": "addfb059",
   "metadata": {},
   "source": [
    "### Features\n",
    "\n",
    "For the rest of the homework, you'll need to use only these columns:\n",
    "\n",
    "* `'latitude'`,\n",
    "* `'longitude'`,\n",
    "* `'housing_median_age'`,\n",
    "* `'total_rooms'`,\n",
    "* `'total_bedrooms'`,\n",
    "* `'population'`,\n",
    "* `'households'`,\n",
    "* `'median_income'`,\n",
    "* `'median_house_value'`\n",
    "\n",
    "Select only them."
   ]
  },
  {
   "cell_type": "code",
   "execution_count": 7,
   "id": "5006becd",
   "metadata": {},
   "outputs": [],
   "source": [
    "df = df.drop(['ocean_proximity'], axis=1)"
   ]
  },
  {
   "cell_type": "code",
   "execution_count": 9,
   "id": "d5d2d760",
   "metadata": {},
   "outputs": [
    {
     "data": {
      "text/plain": [
       "Index(['longitude', 'latitude', 'housing_median_age', 'total_rooms',\n",
       "       'total_bedrooms', 'population', 'households', 'median_income',\n",
       "       'median_house_value'],\n",
       "      dtype='object')"
      ]
     },
     "execution_count": 9,
     "metadata": {},
     "output_type": "execute_result"
    }
   ],
   "source": [
    "df.columns"
   ]
  },
  {
   "cell_type": "markdown",
   "id": "3178700e",
   "metadata": {},
   "source": [
    "### Question 1\n",
    "\n",
    "Find a feature with missing values. How many missing values does it have?\n",
    "- **207** - total_bedrooms\n",
    "- 307\n",
    "- 408\n",
    "- 508"
   ]
  },
  {
   "cell_type": "code",
   "execution_count": 11,
   "id": "cfdf55cb",
   "metadata": {},
   "outputs": [
    {
     "data": {
      "text/plain": [
       "longitude               0\n",
       "latitude                0\n",
       "housing_median_age      0\n",
       "total_rooms             0\n",
       "total_bedrooms        207\n",
       "population              0\n",
       "households              0\n",
       "median_income           0\n",
       "median_house_value      0\n",
       "dtype: int64"
      ]
     },
     "execution_count": 11,
     "metadata": {},
     "output_type": "execute_result"
    }
   ],
   "source": [
    "# Find a feature with missing values. How many missing values does it have?\n",
    "df.isnull().sum()"
   ]
  },
  {
   "cell_type": "markdown",
   "id": "8a55fff5",
   "metadata": {},
   "source": [
    "### Question 2\n",
    "\n",
    "What's the median (50% percentile) for variable 'population'?\n",
    "- 1133\n",
    "- 1122\n",
    "- **1166**\n",
    "- 1188"
   ]
  },
  {
   "cell_type": "code",
   "execution_count": 12,
   "id": "5460d164",
   "metadata": {},
   "outputs": [
    {
     "data": {
      "text/plain": [
       "1166.0"
      ]
     },
     "execution_count": 12,
     "metadata": {},
     "output_type": "execute_result"
    }
   ],
   "source": [
    "df['population'].median()"
   ]
  },
  {
   "cell_type": "markdown",
   "id": "1bff3915",
   "metadata": {},
   "source": [
    "### Split the data\n",
    "\n",
    "* Shuffle the initial dataset, use seed `42`.\n",
    "* Split your data in train/val/test sets, with 60%/20%/20% distribution.\n",
    "* Make sure that the target value ('median_house_value') is not in your dataframe.\n",
    "* Apply the log transformation to the median_house_value variable using the `np.log1p()` function."
   ]
  },
  {
   "cell_type": "code",
   "execution_count": 19,
   "id": "b48b28d7",
   "metadata": {},
   "outputs": [],
   "source": [
    "train_len = int(0.6 * len(df))\n",
    "val_len = int(0.2 * len(df))\n",
    "test_len = len(df) - train_len - val_len"
   ]
  },
  {
   "cell_type": "code",
   "execution_count": 20,
   "id": "fe842b35",
   "metadata": {},
   "outputs": [
    {
     "data": {
      "text/plain": [
       "(12384, 4128, 4128)"
      ]
     },
     "execution_count": 20,
     "metadata": {},
     "output_type": "execute_result"
    }
   ],
   "source": [
    "train_len, val_len, test_len"
   ]
  },
  {
   "cell_type": "code",
   "execution_count": 32,
   "id": "14bc539b",
   "metadata": {},
   "outputs": [],
   "source": [
    "np.random.seed(42)\n",
    "idx = np.arange(len(df))\n",
    "np.random.shuffle(idx)"
   ]
  },
  {
   "cell_type": "code",
   "execution_count": 35,
   "id": "d8b21813",
   "metadata": {},
   "outputs": [],
   "source": [
    "df_train = df.iloc[idx[:train_len]].reset_index(drop=True)\n",
    "df_val = df.iloc[idx[train_len:train_len+val_len]].reset_index(drop=True)\n",
    "df_test = df.iloc[idx[train_len+val_len:]].reset_index(drop=True)"
   ]
  },
  {
   "cell_type": "code",
   "execution_count": 36,
   "id": "220b09e7",
   "metadata": {},
   "outputs": [
    {
     "data": {
      "text/plain": [
       "((12384, 9), (4128, 9), (4128, 9))"
      ]
     },
     "execution_count": 36,
     "metadata": {},
     "output_type": "execute_result"
    }
   ],
   "source": [
    "df_train.shape, df_val.shape, df_test.shape"
   ]
  },
  {
   "cell_type": "code",
   "execution_count": 38,
   "id": "ea8b640a",
   "metadata": {},
   "outputs": [],
   "source": [
    "y_train = np.log1p(df_train['median_house_value'].values)\n",
    "y_val = np.log1p(df_val['median_house_value'].values)\n",
    "y_test = np.log1p(df_test['median_house_value'].values)"
   ]
  },
  {
   "cell_type": "code",
   "execution_count": 56,
   "id": "864b1834",
   "metadata": {},
   "outputs": [],
   "source": [
    "del df_train['median_house_value']\n",
    "del df_val['median_house_value']\n",
    "del df_test['median_house_value']"
   ]
  },
  {
   "cell_type": "markdown",
   "id": "ca75bdf7",
   "metadata": {},
   "source": [
    "### Question 3\n",
    "\n",
    "* We need to deal with missing values for the column from Q1.\n",
    "* We have two options: fill it with 0 or with the mean of this variable.\n",
    "* Try both options. For each, train a linear regression model without regularization using the code from the lessons.\n",
    "* For computing the mean, use the training only!\n",
    "* Use the validation dataset to evaluate the models and compare the RMSE of each option.\n",
    "* Round the RMSE scores to 2 decimal digits using `round(score, 2)`\n",
    "* Which option gives better RMSE?\n",
    "\n",
    "Options:\n",
    "- With 0\n",
    "- With mean\n",
    "- With median\n",
    "- **Both are equally good**"
   ]
  },
  {
   "cell_type": "code",
   "execution_count": 60,
   "id": "29ecae35",
   "metadata": {},
   "outputs": [],
   "source": [
    "base = ['longitude', 'latitude', 'housing_median_age', 'total_rooms','total_bedrooms', 'population', 'households', 'median_income',]\n",
    "\n",
    "def train_linear_regression(X, y):\n",
    "    ones = np.ones(X.shape[0])\n",
    "    X = np.column_stack([ones, X])\n",
    "\n",
    "    XTX = X.T.dot(X)\n",
    "    XTX_inv = np.linalg.inv(XTX)\n",
    "    w = XTX_inv.dot(X.T).dot(y)\n",
    "    \n",
    "    return w[0], w[1:]\n",
    "\n",
    "def prepare_X(df, fill_na):\n",
    "    df_num = df[base]\n",
    "    df_num = df_num.fillna(fill_na)\n",
    "    X = df_num.values\n",
    "    return X\n",
    "\n",
    "def rmse(y, y_pred):\n",
    "    error = y_pred - y\n",
    "    mse = (error ** 2).mean()\n",
    "    return np.sqrt(mse)"
   ]
  },
  {
   "cell_type": "code",
   "execution_count": 67,
   "id": "6a8c91b7",
   "metadata": {},
   "outputs": [
    {
     "data": {
      "text/plain": [
       "0.33"
      ]
     },
     "execution_count": 67,
     "metadata": {},
     "output_type": "execute_result"
    }
   ],
   "source": [
    "# Impute with 0\n",
    "X_train_zero = prepare_X(df_train, fill_na=0)\n",
    "X_val_zero = prepare_X(df_val, fill_na=0)\n",
    "w_0, w = train_linear_regression(X_train_zero, y_train)\n",
    "\n",
    "y_pred_zero = w_0 + X_val_zero.dot(w)\n",
    "round(rmse(y_val, y_pred_zero),2)"
   ]
  },
  {
   "cell_type": "code",
   "execution_count": 68,
   "id": "48088fef",
   "metadata": {},
   "outputs": [
    {
     "data": {
      "text/plain": [
       "0.33"
      ]
     },
     "execution_count": 68,
     "metadata": {},
     "output_type": "execute_result"
    }
   ],
   "source": [
    "# Impute with mean\n",
    "X_train_mean = prepare_X(df_train, fill_na=df_train['total_bedrooms'].mean())\n",
    "X_val_mean = prepare_X(df_val, fill_na=df_train['total_bedrooms'].mean())\n",
    "w_0, w = train_linear_regression(X_train_mean, y_train)\n",
    "\n",
    "y_pred_mean = w_0 + X_val_mean.dot(w)\n",
    "round(rmse(y_val, y_pred_mean),2)"
   ]
  },
  {
   "cell_type": "markdown",
   "id": "b52bb842",
   "metadata": {},
   "source": [
    "### Question 4\n",
    "\n",
    "* Now let's train a regularized linear regression.\n",
    "* For this question, fill the NAs with 0. \n",
    "* Try different values of `r` from this list: `[0, 0.000001, 0.0001, 0.001, 0.01, 0.1, 1, 5, 10]`.\n",
    "* Use RMSE to evaluate the model on the validation dataset.\n",
    "* Round the RMSE scores to 2 decimal digits.\n",
    "* Which `r` gives the best RMSE?\n",
    "\n",
    "If there are multiple options, select the smallest `r`.\n",
    "\n",
    "Options:\n",
    "- **0**\n",
    "- 0.000001\n",
    "- 0.001\n",
    "- 0.0001"
   ]
  },
  {
   "cell_type": "code",
   "execution_count": 63,
   "id": "75778c9b",
   "metadata": {},
   "outputs": [],
   "source": [
    "\n",
    "def train_linear_regression_reg(X, y, r=0.0):\n",
    "    ones = np.ones(X.shape[0])\n",
    "    X = np.column_stack([ones, X])\n",
    "\n",
    "    XTX = X.T.dot(X)\n",
    "    reg = r * np.eye(XTX.shape[0])\n",
    "    XTX = XTX + reg\n",
    "\n",
    "    XTX_inv = np.linalg.inv(XTX)\n",
    "    w = XTX_inv.dot(X.T).dot(y)\n",
    "    \n",
    "    return w[0], w[1:]"
   ]
  },
  {
   "cell_type": "code",
   "execution_count": 70,
   "id": "fcac7a20",
   "metadata": {},
   "outputs": [
    {
     "name": "stdout",
     "output_type": "stream",
     "text": [
      "0 -11.686975242036546 0.33\n",
      "1e-06 -11.686959175728921 0.33\n",
      "0.0001 -11.685368865034667 0.33\n",
      "0.001 -11.670931317799797 0.33\n",
      "0.01 -11.528493585632091 0.33\n",
      "0.1 -10.274500282195673 0.33\n",
      "1 -4.920480897742212 0.33\n",
      "5 -1.482095745621172 0.34\n",
      "10 -0.7899311831779245 0.34\n"
     ]
    }
   ],
   "source": [
    "for r in [0, 0.000001, 0.0001, 0.001, 0.01, 0.1, 1, 5, 10]:\n",
    "    w_0, w = train_linear_regression_reg(X_train_zero, y_train, r=r)\n",
    "    y_pred_val_reg = w_0 + X_val_zero.dot(w)\n",
    "    rmse_val = np.round(rmse(y_val, y_pred_val_reg),2)\n",
    "    print(r, w_0, rmse_val)\n"
   ]
  },
  {
   "cell_type": "markdown",
   "id": "f5caa567",
   "metadata": {},
   "source": [
    "### Question 5 \n",
    "\n",
    "* We used seed 42 for splitting the data. Let's find out how selecting the seed influences our score.\n",
    "* Try different seed values: `[0, 1, 2, 3, 4, 5, 6, 7, 8, 9]`.\n",
    "* For each seed, do the train/validation/test split with 60%/20%/20% distribution.\n",
    "* Fill the missing values with 0 and train a model without regularization.\n",
    "* For each seed, evaluate the model on the validation dataset and collect the RMSE scores. \n",
    "* What's the standard deviation of all the scores? To compute the standard deviation, use `np.std`.\n",
    "* Round the result to 3 decimal digits (`round(std, 3)`)\n",
    "\n",
    "> Note: Standard deviation shows how different the values are.\n",
    "> If it's low, then all values are approximately the same.\n",
    "> If it's high, the values are different. \n",
    "> If standard deviation of scores is low, then our model is *stable*.\n",
    "\n",
    "Options:\n",
    "- 0.16\n",
    "- 0.00005\n",
    "- **0.005**\n",
    "- 0.15555"
   ]
  },
  {
   "cell_type": "code",
   "execution_count": 88,
   "id": "cee7efdc",
   "metadata": {},
   "outputs": [],
   "source": [
    "def prepare_datasets(seed_val, delete_target = True):\n",
    "    train_len = int(0.6 * len(df))\n",
    "    val_len = int(0.2 * len(df))\n",
    "    test_len = len(df) - train_len - val_len\n",
    "    np.random.seed(seed_val)\n",
    "    idx = np.arange(len(df))\n",
    "    np.random.shuffle(idx)\n",
    "    \n",
    "    df_train = df.iloc[idx[:train_len]].reset_index(drop=True)\n",
    "    df_val = df.iloc[idx[train_len:train_len+val_len]].reset_index(drop=True)\n",
    "    df_test = df.iloc[idx[train_len+val_len:]].reset_index(drop=True)\n",
    "\n",
    "    y_train = np.log1p(df_train['median_house_value'].values)\n",
    "    y_val = np.log1p(df_val['median_house_value'].values)\n",
    "    y_test = np.log1p(df_test['median_house_value'].values)\n",
    "    if delete_target:\n",
    "        del df_train['median_house_value']\n",
    "        del df_val['median_house_value']\n",
    "        del df_test['median_house_value']\n",
    "    \n",
    "    return df_train, df_val, df_test, y_train, y_val, y_test"
   ]
  },
  {
   "cell_type": "code",
   "execution_count": 89,
   "id": "a21546ca",
   "metadata": {},
   "outputs": [],
   "source": [
    "rmse_scores = []\n",
    "for i in [0, 1, 2, 3, 4, 5, 6, 7, 8, 9]:\n",
    "    df_train, df_val, df_test, y_train, y_val, y_test = prepare_datasets(i, delete_target=True)\n",
    "    # Impute with 0\n",
    "    X_train_zero = prepare_X(df_train, fill_na=0)\n",
    "    X_val_zero = prepare_X(df_val, fill_na=0)\n",
    "    w_0, w = train_linear_regression(X_train_zero, y_train)\n",
    "\n",
    "    y_pred_zero = w_0 + X_val_zero.dot(w)\n",
    "    rmse_scores.append(round(rmse(y_val, y_pred_zero),2))\n",
    "    "
   ]
  },
  {
   "cell_type": "code",
   "execution_count": 90,
   "id": "ed30393f",
   "metadata": {},
   "outputs": [
    {
     "data": {
      "text/plain": [
       "0.005"
      ]
     },
     "execution_count": 90,
     "metadata": {},
     "output_type": "execute_result"
    }
   ],
   "source": [
    "round(np.std(rmse_scores),3)"
   ]
  },
  {
   "cell_type": "markdown",
   "id": "110e8cfd",
   "metadata": {},
   "source": [
    "### Question 6\n",
    "\n",
    "* Split the dataset like previously, use seed 9.\n",
    "* Combine train and validation datasets.\n",
    "* Fill the missing values with 0 and train a model with `r=0.001`. \n",
    "* What's the RMSE on the test dataset?\n",
    "\n",
    "Options:\n",
    "- **0.35**\n",
    "- 0.135\n",
    "- 0.450\n",
    "- 0.245"
   ]
  },
  {
   "cell_type": "code",
   "execution_count": 91,
   "id": "0a15a337",
   "metadata": {},
   "outputs": [],
   "source": [
    "df_train, df_val, df_test, y_train, y_val, y_test = prepare_datasets(9, delete_target=False)\n",
    "df_train = df_train.append(df_val, ignore_index = True)\n"
   ]
  },
  {
   "cell_type": "code",
   "execution_count": 93,
   "id": "58b4907c",
   "metadata": {},
   "outputs": [],
   "source": [
    "y_train = df_train['median_house_value'].values\n",
    "y_test = df_test['median_house_value'].values"
   ]
  },
  {
   "cell_type": "code",
   "execution_count": 94,
   "id": "b1c4c0ec",
   "metadata": {},
   "outputs": [],
   "source": [
    "y_train = np.log1p(y_train)\n",
    "y_test = np.log1p(y_test)\n",
    "\n",
    "del df_train['median_house_value']\n",
    "del df_test['median_house_value']"
   ]
  },
  {
   "cell_type": "code",
   "execution_count": 95,
   "id": "8fce40c7",
   "metadata": {},
   "outputs": [
    {
     "name": "stdout",
     "output_type": "stream",
     "text": [
      "0.35\n"
     ]
    }
   ],
   "source": [
    "# Impute with 0\n",
    "X_train_zero = prepare_X(df_train, fill_na=0)\n",
    "X_test_zero = prepare_X(df_test, fill_na=0)\n",
    "w_0, w = train_linear_regression_reg(X_train_zero, y_train, r=0.001)\n",
    "\n",
    "y_pred_test_reg = w_0 + X_test_zero.dot(w)\n",
    "rmse_test = np.round(rmse(y_test, y_pred_test_reg),2)\n",
    "print(rmse_test)"
   ]
  }
 ],
 "metadata": {
  "kernelspec": {
   "display_name": "Python 3",
   "language": "python",
   "name": "python3"
  },
  "language_info": {
   "codemirror_mode": {
    "name": "ipython",
    "version": 3
   },
   "file_extension": ".py",
   "mimetype": "text/x-python",
   "name": "python",
   "nbconvert_exporter": "python",
   "pygments_lexer": "ipython3",
   "version": "3.8.10"
  }
 },
 "nbformat": 4,
 "nbformat_minor": 5
}
